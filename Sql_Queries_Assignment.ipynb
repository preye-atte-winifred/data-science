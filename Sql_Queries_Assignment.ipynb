{
  "cells": [
    {
      "cell_type": "markdown",
      "metadata": {
        "id": "view-in-github",
        "colab_type": "text"
      },
      "source": [
        "<a href=\"https://colab.research.google.com/github/preye-atte-winifred/data-science/blob/main/Sql_Queries_Assignment.ipynb\" target=\"_parent\"><img src=\"https://colab.research.google.com/assets/colab-badge.svg\" alt=\"Open In Colab\"/></a>"
      ]
    },
    {
      "cell_type": "markdown",
      "metadata": {
        "id": "SpcbZdpX26US"
      },
      "source": [
        "# Basic SQL Queries: Flights Database\n",
        "© Stutern Graduate Accelerator"
      ]
    },
    {
      "cell_type": "markdown",
      "metadata": {
        "id": "6syGqZkJ3H1w"
      },
      "source": [
        "Below is an Entity Relationship Diagram (ERD) of the flights database:\n",
        "\n",
        "<img src=\"https://github.com/Explore-AI/Pictures/blob/master/flights_ER_diagram.png?raw=true\" width=40%/>\n",
        "\n",
        "As can be seen from the ERD, the flights database consists of four tables:\n",
        "- **flights**: all domestic flights in the USA in 2008\n",
        "- **carriers**: lookup table for all the carriers\n",
        "- **planes**: lookup table for all the planes \n",
        "- **airports**: lookup table for all the airports\n",
        "\n",
        "For this challenge you will apply the use of Basic SQL queries to gain insight into the flights database. "
      ]
    },
    {
      "cell_type": "markdown",
      "metadata": {
        "id": "o9Mf6nnMq1Mt"
      },
      "source": [
        "## Instructions to Students\n",
        "\n",
        "This challenge is designed to determine how much you have learned so far and will test your knowledge on basic SQL queries.\n",
        "\n",
        "#### Kindly write your answers in the answer section by double clicking the cell titled \"YOUR ANSWER HERE\"\n",
        "\n",
        "Just incase you don't have the flights.db file, click [here](https://drive.google.com/drive/folders/1zoc3iqg3SMn2817C3ZAWeP2Bu-4FrvGS?usp=sharing) to download and ensure you upload it colab \n",
        "\n",
        "Do not add or remove cells in this notebook. Do not edit or remove the `%%sql` comment as it is required to run each cell.\n",
        "\n",
        "### **FINAL NOTICE, DO NOT IGNORE**\n",
        "\n",
        "* Make sure you select the right answers by running the right queries\n",
        "* Once you are satisfied with your work, Kindly share a link to your notebook on **citrone**.\n",
        "* Ensure access to notebook by changing general access from \"Restricted\" to \"Anyone can view\". This can be achieved by clicking the share button beside the comment button at the right hand side of the top menu/nav bar .\n",
        "\n",
        "###**Thanks!**\n",
        "\n",
        "\n",
        "**_Good Luck!_**"
      ]
    },
    {
      "cell_type": "markdown",
      "source": [
        "DOUBLE CLICK HERE TO WRITE YOUR NAME\n",
        "NAME: ATTE PREYE "
      ],
      "metadata": {
        "id": "wUGz0Ph0vWBN"
      }
    },
    {
      "cell_type": "markdown",
      "metadata": {
        "id": "mn_MipAy4Nd6"
      },
      "source": [
        "\n",
        "## Loading the database\n",
        "\n",
        "Before you start producing basic SQL queries, you need to prepare your SQL environment. You can do this by loading in the magic command `%load_ext sql` as we've seen in previous classes. Next you can go ahead and load in your database. To do this you will need to ensure you have downloaded the `flight.db` [here](https://drive.google.com/drive/folders/1zoc3iqg3SMn2817C3ZAWeP2Bu-4FrvGS?usp=sharing)  "
      ]
    },
    {
      "cell_type": "code",
      "execution_count": 2,
      "metadata": {
        "colab": {
          "base_uri": "https://localhost:8080/",
          "height": 35
        },
        "id": "RPb4uX3f5QpD",
        "outputId": "e16a4902-d213-42a9-91b3-5cd66350c228"
      },
      "outputs": [
        {
          "output_type": "execute_result",
          "data": {
            "text/plain": [
              "'Connected: @///content/flights.db'"
            ],
            "application/vnd.google.colaboratory.intrinsic+json": {
              "type": "string"
            }
          },
          "metadata": {},
          "execution_count": 2
        }
      ],
      "source": [
        "%%sql \n",
        "\n",
        "sqlite://////content/flights.db"
      ]
    },
    {
      "cell_type": "code",
      "execution_count": 1,
      "metadata": {
        "id": "G3P6kl84qORE"
      },
      "outputs": [],
      "source": [
        "%load_ext sql"
      ]
    },
    {
      "cell_type": "markdown",
      "metadata": {
        "id": "DEfPERWi7BwE"
      },
      "source": [
        "#Exploring the database \n",
        "\n",
        "Before we begin this challenge we can go ahead and take a look at the composition of each table in the flights database"
      ]
    },
    {
      "cell_type": "code",
      "execution_count": 3,
      "metadata": {
        "id": "DogFYdP157J1",
        "colab": {
          "base_uri": "https://localhost:8080/",
          "height": 673
        },
        "outputId": "ebe01f93-8a46-493f-bc64-3b2c7918c247"
      },
      "outputs": [
        {
          "output_type": "stream",
          "name": "stdout",
          "text": [
            " * sqlite://////content/flights.db\n",
            "Done.\n"
          ]
        },
        {
          "output_type": "execute_result",
          "data": {
            "text/plain": [
              "[(0, 'index', 'integer', 0, 'NULL', 0),\n",
              " (1, 'Date', 'longtext', 0, None, 0),\n",
              " (2, 'DayOfWeek', 'integer', 0, 'NULL', 0),\n",
              " (3, 'DepTime', 'double', 0, 'NULL', 0),\n",
              " (4, 'CRSDepTime', 'longtext', 0, None, 0),\n",
              " (5, 'ArrTime', 'double', 0, 'NULL', 0),\n",
              " (6, 'CRSArrTime', 'longtext', 0, None, 0),\n",
              " (7, 'UniqueCarrier', 'longtext', 0, None, 0),\n",
              " (8, 'FlightNum', 'longtext', 0, None, 0),\n",
              " (9, 'TailNum', 'longtext', 0, None, 0),\n",
              " (10, 'ActualElapsedTime', 'double', 0, 'NULL', 0),\n",
              " (11, 'CRSElapsedTime', 'longtext', 0, None, 0),\n",
              " (12, 'AirTime', 'longtext', 0, None, 0),\n",
              " (13, 'ArrDelay', 'double', 0, 'NULL', 0),\n",
              " (14, 'DepDelay', 'double', 0, 'NULL', 0),\n",
              " (15, 'Origin', 'longtext', 0, None, 0),\n",
              " (16, 'Dest', 'longtext', 0, None, 0),\n",
              " (17, 'Distance', 'integer', 0, 'NULL', 0),\n",
              " (18, 'TaxiIn', 'longtext', 0, None, 0),\n",
              " (19, 'TaxiOut', 'longtext', 0, None, 0),\n",
              " (20, 'Cancelled', 'longtext', 0, None, 0),\n",
              " (21, 'CancellationCode', 'longtext', 0, None, 0),\n",
              " (22, 'Diverted', 'longtext', 0, None, 0),\n",
              " (23, 'CarrierDelay', 'longtext', 0, None, 0),\n",
              " (24, 'WeatherDelay', 'longtext', 0, None, 0),\n",
              " (25, 'NASDelay', 'longtext', 0, None, 0),\n",
              " (26, 'SecurityDelay', 'longtext', 0, None, 0),\n",
              " (27, 'LateAircraftDelay', 'longtext', 0, None, 0)]"
            ],
            "text/html": [
              "<table>\n",
              "    <thead>\n",
              "        <tr>\n",
              "            <th>cid</th>\n",
              "            <th>name</th>\n",
              "            <th>type</th>\n",
              "            <th>notnull</th>\n",
              "            <th>dflt_value</th>\n",
              "            <th>pk</th>\n",
              "        </tr>\n",
              "    </thead>\n",
              "    <tbody>\n",
              "        <tr>\n",
              "            <td>0</td>\n",
              "            <td>index</td>\n",
              "            <td>integer</td>\n",
              "            <td>0</td>\n",
              "            <td>NULL</td>\n",
              "            <td>0</td>\n",
              "        </tr>\n",
              "        <tr>\n",
              "            <td>1</td>\n",
              "            <td>Date</td>\n",
              "            <td>longtext</td>\n",
              "            <td>0</td>\n",
              "            <td>None</td>\n",
              "            <td>0</td>\n",
              "        </tr>\n",
              "        <tr>\n",
              "            <td>2</td>\n",
              "            <td>DayOfWeek</td>\n",
              "            <td>integer</td>\n",
              "            <td>0</td>\n",
              "            <td>NULL</td>\n",
              "            <td>0</td>\n",
              "        </tr>\n",
              "        <tr>\n",
              "            <td>3</td>\n",
              "            <td>DepTime</td>\n",
              "            <td>double</td>\n",
              "            <td>0</td>\n",
              "            <td>NULL</td>\n",
              "            <td>0</td>\n",
              "        </tr>\n",
              "        <tr>\n",
              "            <td>4</td>\n",
              "            <td>CRSDepTime</td>\n",
              "            <td>longtext</td>\n",
              "            <td>0</td>\n",
              "            <td>None</td>\n",
              "            <td>0</td>\n",
              "        </tr>\n",
              "        <tr>\n",
              "            <td>5</td>\n",
              "            <td>ArrTime</td>\n",
              "            <td>double</td>\n",
              "            <td>0</td>\n",
              "            <td>NULL</td>\n",
              "            <td>0</td>\n",
              "        </tr>\n",
              "        <tr>\n",
              "            <td>6</td>\n",
              "            <td>CRSArrTime</td>\n",
              "            <td>longtext</td>\n",
              "            <td>0</td>\n",
              "            <td>None</td>\n",
              "            <td>0</td>\n",
              "        </tr>\n",
              "        <tr>\n",
              "            <td>7</td>\n",
              "            <td>UniqueCarrier</td>\n",
              "            <td>longtext</td>\n",
              "            <td>0</td>\n",
              "            <td>None</td>\n",
              "            <td>0</td>\n",
              "        </tr>\n",
              "        <tr>\n",
              "            <td>8</td>\n",
              "            <td>FlightNum</td>\n",
              "            <td>longtext</td>\n",
              "            <td>0</td>\n",
              "            <td>None</td>\n",
              "            <td>0</td>\n",
              "        </tr>\n",
              "        <tr>\n",
              "            <td>9</td>\n",
              "            <td>TailNum</td>\n",
              "            <td>longtext</td>\n",
              "            <td>0</td>\n",
              "            <td>None</td>\n",
              "            <td>0</td>\n",
              "        </tr>\n",
              "        <tr>\n",
              "            <td>10</td>\n",
              "            <td>ActualElapsedTime</td>\n",
              "            <td>double</td>\n",
              "            <td>0</td>\n",
              "            <td>NULL</td>\n",
              "            <td>0</td>\n",
              "        </tr>\n",
              "        <tr>\n",
              "            <td>11</td>\n",
              "            <td>CRSElapsedTime</td>\n",
              "            <td>longtext</td>\n",
              "            <td>0</td>\n",
              "            <td>None</td>\n",
              "            <td>0</td>\n",
              "        </tr>\n",
              "        <tr>\n",
              "            <td>12</td>\n",
              "            <td>AirTime</td>\n",
              "            <td>longtext</td>\n",
              "            <td>0</td>\n",
              "            <td>None</td>\n",
              "            <td>0</td>\n",
              "        </tr>\n",
              "        <tr>\n",
              "            <td>13</td>\n",
              "            <td>ArrDelay</td>\n",
              "            <td>double</td>\n",
              "            <td>0</td>\n",
              "            <td>NULL</td>\n",
              "            <td>0</td>\n",
              "        </tr>\n",
              "        <tr>\n",
              "            <td>14</td>\n",
              "            <td>DepDelay</td>\n",
              "            <td>double</td>\n",
              "            <td>0</td>\n",
              "            <td>NULL</td>\n",
              "            <td>0</td>\n",
              "        </tr>\n",
              "        <tr>\n",
              "            <td>15</td>\n",
              "            <td>Origin</td>\n",
              "            <td>longtext</td>\n",
              "            <td>0</td>\n",
              "            <td>None</td>\n",
              "            <td>0</td>\n",
              "        </tr>\n",
              "        <tr>\n",
              "            <td>16</td>\n",
              "            <td>Dest</td>\n",
              "            <td>longtext</td>\n",
              "            <td>0</td>\n",
              "            <td>None</td>\n",
              "            <td>0</td>\n",
              "        </tr>\n",
              "        <tr>\n",
              "            <td>17</td>\n",
              "            <td>Distance</td>\n",
              "            <td>integer</td>\n",
              "            <td>0</td>\n",
              "            <td>NULL</td>\n",
              "            <td>0</td>\n",
              "        </tr>\n",
              "        <tr>\n",
              "            <td>18</td>\n",
              "            <td>TaxiIn</td>\n",
              "            <td>longtext</td>\n",
              "            <td>0</td>\n",
              "            <td>None</td>\n",
              "            <td>0</td>\n",
              "        </tr>\n",
              "        <tr>\n",
              "            <td>19</td>\n",
              "            <td>TaxiOut</td>\n",
              "            <td>longtext</td>\n",
              "            <td>0</td>\n",
              "            <td>None</td>\n",
              "            <td>0</td>\n",
              "        </tr>\n",
              "        <tr>\n",
              "            <td>20</td>\n",
              "            <td>Cancelled</td>\n",
              "            <td>longtext</td>\n",
              "            <td>0</td>\n",
              "            <td>None</td>\n",
              "            <td>0</td>\n",
              "        </tr>\n",
              "        <tr>\n",
              "            <td>21</td>\n",
              "            <td>CancellationCode</td>\n",
              "            <td>longtext</td>\n",
              "            <td>0</td>\n",
              "            <td>None</td>\n",
              "            <td>0</td>\n",
              "        </tr>\n",
              "        <tr>\n",
              "            <td>22</td>\n",
              "            <td>Diverted</td>\n",
              "            <td>longtext</td>\n",
              "            <td>0</td>\n",
              "            <td>None</td>\n",
              "            <td>0</td>\n",
              "        </tr>\n",
              "        <tr>\n",
              "            <td>23</td>\n",
              "            <td>CarrierDelay</td>\n",
              "            <td>longtext</td>\n",
              "            <td>0</td>\n",
              "            <td>None</td>\n",
              "            <td>0</td>\n",
              "        </tr>\n",
              "        <tr>\n",
              "            <td>24</td>\n",
              "            <td>WeatherDelay</td>\n",
              "            <td>longtext</td>\n",
              "            <td>0</td>\n",
              "            <td>None</td>\n",
              "            <td>0</td>\n",
              "        </tr>\n",
              "        <tr>\n",
              "            <td>25</td>\n",
              "            <td>NASDelay</td>\n",
              "            <td>longtext</td>\n",
              "            <td>0</td>\n",
              "            <td>None</td>\n",
              "            <td>0</td>\n",
              "        </tr>\n",
              "        <tr>\n",
              "            <td>26</td>\n",
              "            <td>SecurityDelay</td>\n",
              "            <td>longtext</td>\n",
              "            <td>0</td>\n",
              "            <td>None</td>\n",
              "            <td>0</td>\n",
              "        </tr>\n",
              "        <tr>\n",
              "            <td>27</td>\n",
              "            <td>LateAircraftDelay</td>\n",
              "            <td>longtext</td>\n",
              "            <td>0</td>\n",
              "            <td>None</td>\n",
              "            <td>0</td>\n",
              "        </tr>\n",
              "    </tbody>\n",
              "</table>"
            ]
          },
          "metadata": {},
          "execution_count": 3
        }
      ],
      "source": [
        "%%sql \n",
        "\n",
        "PRAGMA table_info(flights);"
      ]
    },
    {
      "cell_type": "code",
      "execution_count": 4,
      "metadata": {
        "id": "rFbza7pM6-_T",
        "colab": {
          "base_uri": "https://localhost:8080/",
          "height": 118
        },
        "outputId": "7cbe1ddb-9005-4543-bd8b-6695c9968e8f"
      },
      "outputs": [
        {
          "output_type": "stream",
          "name": "stdout",
          "text": [
            " * sqlite://////content/flights.db\n",
            "Done.\n"
          ]
        },
        {
          "output_type": "execute_result",
          "data": {
            "text/plain": [
              "[(0, 'Code', 'varchar(10)', 0, 'NULL', 0),\n",
              " (1, 'Description', 'varchar(100)', 0, 'NULL', 0)]"
            ],
            "text/html": [
              "<table>\n",
              "    <thead>\n",
              "        <tr>\n",
              "            <th>cid</th>\n",
              "            <th>name</th>\n",
              "            <th>type</th>\n",
              "            <th>notnull</th>\n",
              "            <th>dflt_value</th>\n",
              "            <th>pk</th>\n",
              "        </tr>\n",
              "    </thead>\n",
              "    <tbody>\n",
              "        <tr>\n",
              "            <td>0</td>\n",
              "            <td>Code</td>\n",
              "            <td>varchar(10)</td>\n",
              "            <td>0</td>\n",
              "            <td>NULL</td>\n",
              "            <td>0</td>\n",
              "        </tr>\n",
              "        <tr>\n",
              "            <td>1</td>\n",
              "            <td>Description</td>\n",
              "            <td>varchar(100)</td>\n",
              "            <td>0</td>\n",
              "            <td>NULL</td>\n",
              "            <td>0</td>\n",
              "        </tr>\n",
              "    </tbody>\n",
              "</table>"
            ]
          },
          "metadata": {},
          "execution_count": 4
        }
      ],
      "source": [
        "%%sql \n",
        "\n",
        "PRAGMA table_info(carriers);"
      ]
    },
    {
      "cell_type": "code",
      "execution_count": 5,
      "metadata": {
        "id": "5CR8DRoz7OUC",
        "colab": {
          "base_uri": "https://localhost:8080/",
          "height": 225
        },
        "outputId": "d26fb516-7959-4546-81d3-a06b5ea1ba6a"
      },
      "outputs": [
        {
          "output_type": "stream",
          "name": "stdout",
          "text": [
            " * sqlite://////content/flights.db\n",
            "Done.\n"
          ]
        },
        {
          "output_type": "execute_result",
          "data": {
            "text/plain": [
              "[(0, 'iata', 'varchar(10)', 0, 'NULL', 0),\n",
              " (1, 'airport', 'varchar(100)', 0, 'NULL', 0),\n",
              " (2, 'city', 'varchar(100)', 0, 'NULL', 0),\n",
              " (3, 'state', 'varchar(50)', 0, 'NULL', 0),\n",
              " (4, 'country', 'varchar(50)', 0, 'NULL', 0),\n",
              " (5, 'lat', 'float(24,0)', 0, 'NULL', 0),\n",
              " (6, 'long', 'float(24,0)', 0, 'NULL', 0)]"
            ],
            "text/html": [
              "<table>\n",
              "    <thead>\n",
              "        <tr>\n",
              "            <th>cid</th>\n",
              "            <th>name</th>\n",
              "            <th>type</th>\n",
              "            <th>notnull</th>\n",
              "            <th>dflt_value</th>\n",
              "            <th>pk</th>\n",
              "        </tr>\n",
              "    </thead>\n",
              "    <tbody>\n",
              "        <tr>\n",
              "            <td>0</td>\n",
              "            <td>iata</td>\n",
              "            <td>varchar(10)</td>\n",
              "            <td>0</td>\n",
              "            <td>NULL</td>\n",
              "            <td>0</td>\n",
              "        </tr>\n",
              "        <tr>\n",
              "            <td>1</td>\n",
              "            <td>airport</td>\n",
              "            <td>varchar(100)</td>\n",
              "            <td>0</td>\n",
              "            <td>NULL</td>\n",
              "            <td>0</td>\n",
              "        </tr>\n",
              "        <tr>\n",
              "            <td>2</td>\n",
              "            <td>city</td>\n",
              "            <td>varchar(100)</td>\n",
              "            <td>0</td>\n",
              "            <td>NULL</td>\n",
              "            <td>0</td>\n",
              "        </tr>\n",
              "        <tr>\n",
              "            <td>3</td>\n",
              "            <td>state</td>\n",
              "            <td>varchar(50)</td>\n",
              "            <td>0</td>\n",
              "            <td>NULL</td>\n",
              "            <td>0</td>\n",
              "        </tr>\n",
              "        <tr>\n",
              "            <td>4</td>\n",
              "            <td>country</td>\n",
              "            <td>varchar(50)</td>\n",
              "            <td>0</td>\n",
              "            <td>NULL</td>\n",
              "            <td>0</td>\n",
              "        </tr>\n",
              "        <tr>\n",
              "            <td>5</td>\n",
              "            <td>lat</td>\n",
              "            <td>float(24,0)</td>\n",
              "            <td>0</td>\n",
              "            <td>NULL</td>\n",
              "            <td>0</td>\n",
              "        </tr>\n",
              "        <tr>\n",
              "            <td>6</td>\n",
              "            <td>long</td>\n",
              "            <td>float(24,0)</td>\n",
              "            <td>0</td>\n",
              "            <td>NULL</td>\n",
              "            <td>0</td>\n",
              "        </tr>\n",
              "    </tbody>\n",
              "</table>"
            ]
          },
          "metadata": {},
          "execution_count": 5
        }
      ],
      "source": [
        "%%sql \n",
        "\n",
        "PRAGMA table_info(airports);"
      ]
    },
    {
      "cell_type": "code",
      "execution_count": 6,
      "metadata": {
        "id": "Yv-F_ubg7SsX",
        "colab": {
          "base_uri": "https://localhost:8080/",
          "height": 267
        },
        "outputId": "ee5dd698-e0f8-40d7-946b-4357f7557f9e"
      },
      "outputs": [
        {
          "output_type": "stream",
          "name": "stdout",
          "text": [
            " * sqlite://////content/flights.db\n",
            "Done.\n"
          ]
        },
        {
          "output_type": "execute_result",
          "data": {
            "text/plain": [
              "[(0, 'tailnum', 'varchar(10)', 0, 'NULL', 0),\n",
              " (1, 'type', 'varchar(100)', 0, 'NULL', 0),\n",
              " (2, 'manufacturer', 'varchar(100)', 0, 'NULL', 0),\n",
              " (3, 'issue_date', 'varchar(100)', 0, 'NULL', 0),\n",
              " (4, 'model', 'varchar(50)', 0, 'NULL', 0),\n",
              " (5, 'status', 'varchar(100)', 0, 'NULL', 0),\n",
              " (6, 'aircraft_type', 'varchar(100)', 0, 'NULL', 0),\n",
              " (7, 'engine_type', 'varchar(100)', 0, 'NULL', 0),\n",
              " (8, 'year', 'longtext', 0, None, 0)]"
            ],
            "text/html": [
              "<table>\n",
              "    <thead>\n",
              "        <tr>\n",
              "            <th>cid</th>\n",
              "            <th>name</th>\n",
              "            <th>type</th>\n",
              "            <th>notnull</th>\n",
              "            <th>dflt_value</th>\n",
              "            <th>pk</th>\n",
              "        </tr>\n",
              "    </thead>\n",
              "    <tbody>\n",
              "        <tr>\n",
              "            <td>0</td>\n",
              "            <td>tailnum</td>\n",
              "            <td>varchar(10)</td>\n",
              "            <td>0</td>\n",
              "            <td>NULL</td>\n",
              "            <td>0</td>\n",
              "        </tr>\n",
              "        <tr>\n",
              "            <td>1</td>\n",
              "            <td>type</td>\n",
              "            <td>varchar(100)</td>\n",
              "            <td>0</td>\n",
              "            <td>NULL</td>\n",
              "            <td>0</td>\n",
              "        </tr>\n",
              "        <tr>\n",
              "            <td>2</td>\n",
              "            <td>manufacturer</td>\n",
              "            <td>varchar(100)</td>\n",
              "            <td>0</td>\n",
              "            <td>NULL</td>\n",
              "            <td>0</td>\n",
              "        </tr>\n",
              "        <tr>\n",
              "            <td>3</td>\n",
              "            <td>issue_date</td>\n",
              "            <td>varchar(100)</td>\n",
              "            <td>0</td>\n",
              "            <td>NULL</td>\n",
              "            <td>0</td>\n",
              "        </tr>\n",
              "        <tr>\n",
              "            <td>4</td>\n",
              "            <td>model</td>\n",
              "            <td>varchar(50)</td>\n",
              "            <td>0</td>\n",
              "            <td>NULL</td>\n",
              "            <td>0</td>\n",
              "        </tr>\n",
              "        <tr>\n",
              "            <td>5</td>\n",
              "            <td>status</td>\n",
              "            <td>varchar(100)</td>\n",
              "            <td>0</td>\n",
              "            <td>NULL</td>\n",
              "            <td>0</td>\n",
              "        </tr>\n",
              "        <tr>\n",
              "            <td>6</td>\n",
              "            <td>aircraft_type</td>\n",
              "            <td>varchar(100)</td>\n",
              "            <td>0</td>\n",
              "            <td>NULL</td>\n",
              "            <td>0</td>\n",
              "        </tr>\n",
              "        <tr>\n",
              "            <td>7</td>\n",
              "            <td>engine_type</td>\n",
              "            <td>varchar(100)</td>\n",
              "            <td>0</td>\n",
              "            <td>NULL</td>\n",
              "            <td>0</td>\n",
              "        </tr>\n",
              "        <tr>\n",
              "            <td>8</td>\n",
              "            <td>year</td>\n",
              "            <td>longtext</td>\n",
              "            <td>0</td>\n",
              "            <td>None</td>\n",
              "            <td>0</td>\n",
              "        </tr>\n",
              "    </tbody>\n",
              "</table>"
            ]
          },
          "metadata": {},
          "execution_count": 6
        }
      ],
      "source": [
        "%%sql \n",
        "\n",
        "PRAGMA table_info(planes);"
      ]
    },
    {
      "cell_type": "markdown",
      "metadata": {
        "id": "1jic_xzd7qxu"
      },
      "source": [
        "## Questions on Basic SQL Queries \n",
        "\n",
        "Now that you have an idea of what information each table contains, you can use the given cell below each question to execute your basic SQL queries to find the correct output from the options provided for the multiple choice questions on form."
      ]
    },
    {
      "cell_type": "markdown",
      "metadata": {
        "id": "rrx6v9y07x3Q"
      },
      "source": [
        "**Question 1**\n",
        "\n",
        "How many different carriers are there in total in the database?\n",
        "\n",
        "**Options:**\n",
        "- 1 252\n",
        "- 1491\n",
        "- 20\n",
        "- 37"
      ]
    },
    {
      "cell_type": "code",
      "execution_count": 7,
      "metadata": {
        "id": "yxBbvV6K7ZIt",
        "colab": {
          "base_uri": "https://localhost:8080/",
          "height": 97
        },
        "outputId": "4c78ddc1-76a0-4b36-af4a-fdc662ffffe1"
      },
      "outputs": [
        {
          "output_type": "stream",
          "name": "stdout",
          "text": [
            " * sqlite://////content/flights.db\n",
            "Done.\n"
          ]
        },
        {
          "output_type": "execute_result",
          "data": {
            "text/plain": [
              "[(1491,)]"
            ],
            "text/html": [
              "<table>\n",
              "    <thead>\n",
              "        <tr>\n",
              "            <th>COUNT(*)</th>\n",
              "        </tr>\n",
              "    </thead>\n",
              "    <tbody>\n",
              "        <tr>\n",
              "            <td>1491</td>\n",
              "        </tr>\n",
              "    </tbody>\n",
              "</table>"
            ]
          },
          "metadata": {},
          "execution_count": 7
        }
      ],
      "source": [
        "%%sql\n",
        "SELECT COUNT(*)\n",
        "FROM carriers"
      ]
    },
    {
      "cell_type": "markdown",
      "metadata": {
        "id": "jbQrUUTXtXkJ"
      },
      "source": [
        "### YOUR ANSWER HERE: \n",
        "1491"
      ]
    },
    {
      "cell_type": "markdown",
      "metadata": {
        "id": "VTSePiaa7_Yu"
      },
      "source": [
        "**Question 2** \n",
        "\n",
        "How long was the longest delay before departure? \n",
        "\n",
        "**Options:**\n",
        "- 1355 min\n",
        "- 999 min\n",
        "- 1099 min\n",
        "- 588 min"
      ]
    },
    {
      "cell_type": "code",
      "execution_count": 8,
      "metadata": {
        "id": "QeJQFrCV8ECZ",
        "colab": {
          "base_uri": "https://localhost:8080/",
          "height": 97
        },
        "outputId": "7f597055-df6f-48b0-c97a-7d54438a1472"
      },
      "outputs": [
        {
          "output_type": "stream",
          "name": "stdout",
          "text": [
            " * sqlite://////content/flights.db\n",
            "Done.\n"
          ]
        },
        {
          "output_type": "execute_result",
          "data": {
            "text/plain": [
              "[(1355.0,)]"
            ],
            "text/html": [
              "<table>\n",
              "    <thead>\n",
              "        <tr>\n",
              "            <th>MAX(Depdelay)</th>\n",
              "        </tr>\n",
              "    </thead>\n",
              "    <tbody>\n",
              "        <tr>\n",
              "            <td>1355.0</td>\n",
              "        </tr>\n",
              "    </tbody>\n",
              "</table>"
            ]
          },
          "metadata": {},
          "execution_count": 8
        }
      ],
      "source": [
        "%%sql\n",
        "SELECT MAX(Depdelay)\n",
        "FROM flights"
      ]
    },
    {
      "cell_type": "markdown",
      "metadata": {
        "id": "H5aCJAP4udiu"
      },
      "source": [
        "### YOUR ANSWER HERE:\n",
        "1355"
      ]
    },
    {
      "cell_type": "markdown",
      "metadata": {
        "id": "q-xmbYTI8jcM"
      },
      "source": [
        "**Question 3** \n",
        "\n",
        "How many flights departed on the 28th of January 2008?\n",
        "\n",
        "**Options:**\n",
        "- 540 908\n",
        "- 20 149\n",
        "- 19 495\n",
        "- 18 056"
      ]
    },
    {
      "cell_type": "code",
      "execution_count": 12,
      "metadata": {
        "id": "Yh2gQ4Ir9Zex",
        "colab": {
          "base_uri": "https://localhost:8080/",
          "height": 97
        },
        "outputId": "64fc5639-d0d3-457c-aa43-d73e1f26e95c"
      },
      "outputs": [
        {
          "output_type": "stream",
          "name": "stdout",
          "text": [
            " * sqlite://////content/flights.db\n",
            "Done.\n"
          ]
        },
        {
          "output_type": "execute_result",
          "data": {
            "text/plain": [
              "[(20149,)]"
            ],
            "text/html": [
              "<table>\n",
              "    <thead>\n",
              "        <tr>\n",
              "            <th>COUNT(*)</th>\n",
              "        </tr>\n",
              "    </thead>\n",
              "    <tbody>\n",
              "        <tr>\n",
              "            <td>20149</td>\n",
              "        </tr>\n",
              "    </tbody>\n",
              "</table>"
            ]
          },
          "metadata": {},
          "execution_count": 12
        }
      ],
      "source": [
        "%%sql\n",
        "SELECT COUNT(*)\n",
        "FROM flights\n",
        "WHERE Date = \"2008/1/28\"\n"
      ]
    },
    {
      "cell_type": "markdown",
      "metadata": {
        "id": "OXlOG7e-vYYL"
      },
      "source": [
        "### YOUR ANSWER HERE:\n",
        "20149\n"
      ]
    },
    {
      "cell_type": "markdown",
      "metadata": {
        "id": "L_a4l1Si_Ysw"
      },
      "source": [
        "**Question 4**\n",
        " \n",
        " What is the distance between Midway Airport (MDW) and Houston Airport (HOU)?\n",
        " \n",
        " **Options:**\n",
        " - 611 km\n",
        " - 972 km\n",
        " - 1 121 km\n",
        " - 937 km"
      ]
    },
    {
      "cell_type": "code",
      "execution_count": 15,
      "metadata": {
        "id": "DopkPHBSAtoa",
        "colab": {
          "base_uri": "https://localhost:8080/",
          "height": 97
        },
        "outputId": "2febe9b6-ddef-42df-fa14-b79799ebbcb5"
      },
      "outputs": [
        {
          "output_type": "stream",
          "name": "stdout",
          "text": [
            " * sqlite://////content/flights.db\n",
            "Done.\n"
          ]
        },
        {
          "output_type": "execute_result",
          "data": {
            "text/plain": [
              "[('MDW', 'HOU', 937)]"
            ],
            "text/html": [
              "<table>\n",
              "    <thead>\n",
              "        <tr>\n",
              "            <th>Origin</th>\n",
              "            <th>Dest</th>\n",
              "            <th>Distance</th>\n",
              "        </tr>\n",
              "    </thead>\n",
              "    <tbody>\n",
              "        <tr>\n",
              "            <td>MDW</td>\n",
              "            <td>HOU</td>\n",
              "            <td>937</td>\n",
              "        </tr>\n",
              "    </tbody>\n",
              "</table>"
            ]
          },
          "metadata": {},
          "execution_count": 15
        }
      ],
      "source": [
        "%%sql\n",
        "SELECT Origin, Dest, Distance\n",
        "FROM flights\n",
        "WHERE origin is \"MDW\" AND Dest is \"HOU\"\n",
        "LIMIT 1"
      ]
    },
    {
      "cell_type": "markdown",
      "metadata": {
        "id": "_Wy_hxQDvwjI"
      },
      "source": [
        "### YOUR ANSWER HERE:\n",
        "937\n"
      ]
    },
    {
      "cell_type": "markdown",
      "metadata": {
        "id": "7UhjfCajAw_m"
      },
      "source": [
        "**Question 5**\n",
        "\n",
        "Which day of the week had the highest number of cancelled flights?(Note 1 = cancelled , 0 = not cancelled;)\n",
        "\n",
        "\n",
        "**Options:**\n",
        "- Monday(1)\n",
        "- Wednesday(3) \n",
        "- Saturday(6) \n",
        "- Thursday (4) "
      ]
    },
    {
      "cell_type": "code",
      "execution_count": 17,
      "metadata": {
        "id": "t1dYjEY7A1us",
        "colab": {
          "base_uri": "https://localhost:8080/",
          "height": 97
        },
        "outputId": "990d943e-9efd-4606-bb75-52d46d6182b9"
      },
      "outputs": [
        {
          "output_type": "stream",
          "name": "stdout",
          "text": [
            " * sqlite://////content/flights.db\n",
            "Done.\n"
          ]
        },
        {
          "output_type": "execute_result",
          "data": {
            "text/plain": [
              "[(4, 3093)]"
            ],
            "text/html": [
              "<table>\n",
              "    <thead>\n",
              "        <tr>\n",
              "            <th>DayOfWeek</th>\n",
              "            <th>COUNT(*)</th>\n",
              "        </tr>\n",
              "    </thead>\n",
              "    <tbody>\n",
              "        <tr>\n",
              "            <td>4</td>\n",
              "            <td>3093</td>\n",
              "        </tr>\n",
              "    </tbody>\n",
              "</table>"
            ]
          },
          "metadata": {},
          "execution_count": 17
        }
      ],
      "source": [
        "%%sql\n",
        "SELECT DayOfWeek, COUNT(*)\n",
        "FROM flights\n",
        "WHERE cancelled = 1\n",
        "GROUP BY DayOfWeek\n",
        "ORDER BY COUNT(*) DESC\n",
        "LIMIT 1\n"
      ]
    },
    {
      "cell_type": "markdown",
      "metadata": {
        "id": "oACxyy6_vy-g"
      },
      "source": [
        "### YOUR ANSWER HERE:\n",
        "Thursday(4)\n"
      ]
    },
    {
      "cell_type": "markdown",
      "metadata": {
        "id": "96IF0qcZA4SI"
      },
      "source": [
        "**Question 6**\n",
        "\n",
        "How many airports have the word \"International\" in their name?\n",
        "\n",
        "**Options:**\n",
        "- 110\n",
        "- 124\n",
        "- 8\n",
        "- 2"
      ]
    },
    {
      "cell_type": "code",
      "execution_count": 22,
      "metadata": {
        "id": "h-lHG0C_DXfL",
        "colab": {
          "base_uri": "https://localhost:8080/",
          "height": 97
        },
        "outputId": "90ba8eac-cc49-4066-99ad-a45e209d3c7e"
      },
      "outputs": [
        {
          "output_type": "stream",
          "name": "stdout",
          "text": [
            " * sqlite://////content/flights.db\n",
            "Done.\n"
          ]
        },
        {
          "output_type": "execute_result",
          "data": {
            "text/plain": [
              "[(124,)]"
            ],
            "text/html": [
              "<table>\n",
              "    <thead>\n",
              "        <tr>\n",
              "            <th>COUNT(airport)</th>\n",
              "        </tr>\n",
              "    </thead>\n",
              "    <tbody>\n",
              "        <tr>\n",
              "            <td>124</td>\n",
              "        </tr>\n",
              "    </tbody>\n",
              "</table>"
            ]
          },
          "metadata": {},
          "execution_count": 22
        }
      ],
      "source": [
        "%%sql\n",
        "SELECT COUNT(airport)\n",
        "FROM airports\n",
        "WHERE airport LIKE \"%International%\";\n"
      ]
    },
    {
      "cell_type": "markdown",
      "metadata": {
        "id": "Hl7lHv_Iv1fA"
      },
      "source": [
        "### YOUR ANSWER HERE:\n",
        "124"
      ]
    },
    {
      "cell_type": "markdown",
      "metadata": {
        "id": "Xabo9EvoDfYT"
      },
      "source": [
        "**Question 7**\n",
        "\n",
        "What is the most produced model for the manufacturer \"BOEING\"?\n",
        "\n",
        "**Options:**\n",
        "- 717-200\n",
        "- 737-7H4\n",
        "- 757-222\n",
        "- 737-3H4"
      ]
    },
    {
      "cell_type": "code",
      "execution_count": null,
      "metadata": {
        "id": "OCnWyHOXDrvp",
        "colab": {
          "base_uri": "https://localhost:8080/",
          "height": 97
        },
        "outputId": "13483a4a-115b-4b7c-8c0e-4f8eae3be1fe"
      },
      "outputs": [
        {
          "output_type": "stream",
          "name": "stdout",
          "text": [
            " * sqlite://///content/flights.db\n",
            "Done.\n"
          ]
        },
        {
          "output_type": "execute_result",
          "data": {
            "text/plain": [
              "[('737-7H4', 308)]"
            ],
            "text/html": [
              "<table>\n",
              "    <thead>\n",
              "        <tr>\n",
              "            <th>model</th>\n",
              "            <th>COUNT(*)</th>\n",
              "        </tr>\n",
              "    </thead>\n",
              "    <tbody>\n",
              "        <tr>\n",
              "            <td>737-7H4</td>\n",
              "            <td>308</td>\n",
              "        </tr>\n",
              "    </tbody>\n",
              "</table>"
            ]
          },
          "metadata": {},
          "execution_count": 34
        }
      ],
      "source": [
        "%%sql\n",
        "SELECT model, COUNT(*)\n",
        "FROM planes\n",
        "WHERE manufacturer = \"BOEING\"\n",
        "GROUP BY COUNT(*)"
      ]
    },
    {
      "cell_type": "markdown",
      "metadata": {
        "id": "iQv83kHVv3SC"
      },
      "source": [
        "### YOUR ANSWER HERE:\n",
        "737-7H4\t"
      ]
    },
    {
      "cell_type": "markdown",
      "metadata": {
        "id": "NZheC-NnD2VO"
      },
      "source": [
        "**Question 8**\n",
        "\n",
        "How many planes landed at Los Angeles International Airport? \n",
        "\n",
        "**Options:**\n",
        "- 215 608\n",
        "- 18 964\n",
        "- 41 258\n",
        "- 39 422"
      ]
    },
    {
      "cell_type": "code",
      "execution_count": 21,
      "metadata": {
        "id": "WRJtvQq-ELy4",
        "colab": {
          "base_uri": "https://localhost:8080/",
          "height": 97
        },
        "outputId": "15080138-6fc4-47bf-960e-c7fea6e5c59e"
      },
      "outputs": [
        {
          "output_type": "stream",
          "name": "stdout",
          "text": [
            " * sqlite://////content/flights.db\n",
            "Done.\n"
          ]
        },
        {
          "output_type": "execute_result",
          "data": {
            "text/plain": [
              "[('Los Angeles International', 18964)]"
            ],
            "text/html": [
              "<table>\n",
              "    <thead>\n",
              "        <tr>\n",
              "            <th>airport</th>\n",
              "            <th>NumOfLanding</th>\n",
              "        </tr>\n",
              "    </thead>\n",
              "    <tbody>\n",
              "        <tr>\n",
              "            <td>Los Angeles International</td>\n",
              "            <td>18964</td>\n",
              "        </tr>\n",
              "    </tbody>\n",
              "</table>"
            ]
          },
          "metadata": {},
          "execution_count": 21
        }
      ],
      "source": [
        "%%sql\n",
        "SELECT airport, COUNT(airport) AS NumOfLanding\n",
        "FROM airports AS a\n",
        "JOIN flights AS f\n",
        "ON f.Dest = a.Iata\n",
        "WHERE a.airport = \"Los Angeles International\""
      ]
    },
    {
      "cell_type": "markdown",
      "metadata": {
        "id": "a_AnVjD2v5PQ"
      },
      "source": [
        "### YOUR ANSWER HERE:\n",
        "18964"
      ]
    }
  ],
  "metadata": {
    "colab": {
      "collapsed_sections": [],
      "provenance": [],
      "include_colab_link": true
    },
    "kernelspec": {
      "display_name": "Python 3",
      "name": "python3"
    },
    "language_info": {
      "name": "python"
    }
  },
  "nbformat": 4,
  "nbformat_minor": 0
}